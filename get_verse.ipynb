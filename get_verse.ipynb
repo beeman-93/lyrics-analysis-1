{
 "cells": [
  {
   "cell_type": "code",
   "execution_count": 1,
   "id": "68fe0b0c",
   "metadata": {},
   "outputs": [],
   "source": [
    "## Write a function to get lyrics and save them to CSV file \n"
   ]
  },
  {
   "cell_type": "code",
   "execution_count": 2,
   "id": "89611714",
   "metadata": {},
   "outputs": [],
   "source": [
    "from bs4 import BeautifulSoup\n",
    "import requests\n",
    "import csv "
   ]
  },
  {
   "cell_type": "code",
   "execution_count": 3,
   "id": "c4030d33",
   "metadata": {},
   "outputs": [],
   "source": [
    "def get_verse(url,name):\n",
    "    source = requests.get(url).text\n",
    "    soup = BeautifulSoup(source, 'lxml')\n",
    "    csv_file = open(name + '.csv','w',encoding='utf-8-sig')\n",
    "    csv_writer = csv.writer(csv_file)\n",
    "    csv_writer.writerow(['song_name','total_verse'])\n",
    "    total_verse=''\n",
    "    for song in soup.find_all('div',class_='Lyrics__Container-sc-1ynbvzw-6 YYrds'):\n",
    "        verse=song.text\n",
    "        total_verse+=verse\n",
    "    csv_writer.writerow([name,total_verse])\n",
    "    csv_file.close()"
   ]
  },
  {
   "cell_type": "code",
   "execution_count": 4,
   "id": "acd069a8",
   "metadata": {},
   "outputs": [],
   "source": [
    "get_verse('https://genius.com/John-mayer-new-light-lyrics','new_light')"
   ]
  },
  {
   "cell_type": "code",
   "execution_count": null,
   "id": "d92b6eaa",
   "metadata": {},
   "outputs": [],
   "source": []
  }
 ],
 "metadata": {
  "kernelspec": {
   "display_name": "Python 3 (ipykernel)",
   "language": "python",
   "name": "python3"
  },
  "language_info": {
   "codemirror_mode": {
    "name": "ipython",
    "version": 3
   },
   "file_extension": ".py",
   "mimetype": "text/x-python",
   "name": "python",
   "nbconvert_exporter": "python",
   "pygments_lexer": "ipython3",
   "version": "3.7.4"
  }
 },
 "nbformat": 4,
 "nbformat_minor": 5
}
